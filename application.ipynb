{
 "cells": [
  {
   "cell_type": "code",
   "execution_count": null,
   "metadata": {},
   "outputs": [],
   "source": [
    "from flask import Flask, render_template, request, redirect, send_file\n",
    "import pandas as pd\n",
    "from io import BytesIO\n",
    "import plotly.express as px"
   ]
  },
  {
   "cell_type": "code",
   "execution_count": null,
   "metadata": {},
   "outputs": [],
   "source": [
    "class DataProcessor:\n",
    "    def __init__(self):\n",
    "        self.result_df = None\n",
    "\n",
    "    def create_table(self, table_name):\n",
    "        self.result_df = pd.DataFrame(columns=[table_name, 'Column1', 'Column2'])\n",
    "    \n",
    "    def fetch_data(self, table_name):\n",
    "        self.result_df = pd.DataFrame(columns=[table_name, 'Column1', 'Column2'])\n",
    "\n",
    "    def fetch_column_data(self, table_name, column_name):\n",
    "        self.result_df = pd.DataFrame(columns=[table_name, column_name])\n",
    "\n",
    "    def bar_chart(self, table_name, column_name):\n",
    "        fig = px.bar(self.result_df, x=table_name, y=column_name, title=f'Bar Chart for {column_name}')\n",
    "        fig.write_image(f'{table_name}_{column_name}_bar_chart.png')\n",
    "\n",
    "    def histogram(self, column_name):\n",
    "        fig = px.histogram(self.result_df, x=column_name, title=f'Histogram for {column_name}')\n",
    "        fig.write_image(f'{column_name}_histogram.png')\n",
    "\n",
    "    def basic_stats(self, column_name):\n",
    "        mean_value = self.result_df[column_name].mean()\n",
    "        count_value = self.result_df[column_name].count()\n",
    "        average_value = self.result_df[column_name].sum() / count_value\n",
    "        print(f\"Mean: {mean_value}, Count: {count_value}, Average: {average_value}\")"
   ]
  },
  {
   "cell_type": "code",
   "execution_count": null,
   "metadata": {},
   "outputs": [],
   "source": [
    "data_processor = DataProcessor()"
   ]
  },
  {
   "cell_type": "code",
   "execution_count": null,
   "metadata": {},
   "outputs": [],
   "source": [
    "# Simulate data\n",
    "table_name = 'Table1'\n",
    "column_name = 'Column1'"
   ]
  },
  {
   "cell_type": "code",
   "execution_count": null,
   "metadata": {},
   "outputs": [],
   "source": [
    "# Test the functions\n",
    "data_processor.create_table(table_name)\n",
    "data_processor.fetch_data(table_name)\n",
    "data_processor.fetch_column_data(table_name, column_name)\n",
    "data_processor.bar_chart(table_name, column_name)\n",
    "data_processor.histogram(column_name)\n",
    "data_processor.basic_stats(column_name)"
   ]
  }
 ],
 "metadata": {
  "language_info": {
   "name": "python"
  }
 },
 "nbformat": 4,
 "nbformat_minor": 2
}
