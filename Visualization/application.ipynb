{
 "cells": [
  {
   "cell_type": "code",
   "execution_count": null,
   "metadata": {},
   "outputs": [],
   "source": [
    "import pandas as pd\n",
    "import plotly.graph_objects as go\n",
    "from pandas.api.types import is_numeric_dtype\n",
    "import matplotlib.pyplot as plt\n",
    "import numpy as np"
   ]
  },
  {
   "cell_type": "code",
   "execution_count": null,
   "metadata": {},
   "outputs": [],
   "source": [
    "FILE = 'https://raw.githubusercontent.com/datasciencedojo/datasets/master/titanic.csv'\n",
    "df = pd.read_csv(FILE)\n",
    "for i in df.columns:\n",
    "    if is_numeric_dtype(df[i]):\n",
    "        print(i)"
   ]
  },
  {
   "cell_type": "code",
   "execution_count": null,
   "metadata": {},
   "outputs": [],
   "source": [
    "df"
   ]
  },
  {
   "cell_type": "code",
   "execution_count": null,
   "metadata": {},
   "outputs": [],
   "source": [
    "def matplotlib_plot(column1,column2,column1_name,column2_name):\n",
    "    plt.plot(column1,column2)\n",
    "    plt.xlabel(column1_name)\n",
    "    plt.ylabel(column2_name)\n",
    "    plt.title(\"Plot of \" + column1_name + \" V/S \" + column2_name)\n",
    "    plt.show()"
   ]
  },
  {
   "cell_type": "code",
   "execution_count": null,
   "metadata": {},
   "outputs": [],
   "source": [
    "Column1 = 'PassengerId'\n",
    "Column2 = 'Age'\n",
    "matplotlib_plot(df[Column1],df[Column2],Column1,Column2)"
   ]
  },
  {
   "cell_type": "code",
   "execution_count": null,
   "metadata": {},
   "outputs": [],
   "source": [
    "def matplotlib_scatter(column1,column2,colors,column1_name,column2_name,size,alpha,marker='v'):\n",
    "# 'o': Circle marker\n",
    "# 's': Square marker\n",
    "# 'D': Diamond marker\n",
    "# '^': Upward-pointing triangle marker\n",
    "# 'v': Downward-pointing triangle marker\n",
    "# '>': Right-pointing triangle marker\n",
    "# '<': Left-pointing triangle marker\n",
    "# 'p': Pentagon marker\n",
    "# 'H': Hexagon marker\n",
    "# '+': Plus marker\n",
    "# 'x': X marker\n",
    "# '*': Star marker\n",
    "    n = len(column1)\n",
    "    m = len(column2)\n",
    "    if not colors:\n",
    "        colors = np.random.rand(max(n,m))\n",
    "    plt.scatter(column1,column2,c=colors,s = size,alpha=alpha,marker=marker)\n",
    "    plt.xlabel(column1_name)\n",
    "    plt.ylabel(column2_name)\n",
    "    plt.title(\"Scatter Plot of \" + column1_name + \" V/S \" + column2_name)\n",
    "    plt.show()"
   ]
  },
  {
   "cell_type": "code",
   "execution_count": null,
   "metadata": {},
   "outputs": [],
   "source": [
    "Column1 = 'PassengerId'\n",
    "Column2 = 'Age'\n",
    "matplotlib_scatter(df[Column1],df[Column2],'#FF0000',Column1,Column2,10,0.7,'v')\n"
   ]
  },
  {
   "cell_type": "code",
   "execution_count": null,
   "metadata": {},
   "outputs": [],
   "source": [
    "def matplotlib_bar(column1,column2,column1_name,column2_name):\n",
    "    plt.bar(x = column1, height = column2)\n",
    "    plt.xlabel(column1_name)\n",
    "    plt.ylabel(column2_name)\n",
    "    plt.title(\"Bar Plot of \" + column1_name + \" V/S \" + column2_name)\n",
    "    plt.show()"
   ]
  },
  {
   "cell_type": "code",
   "execution_count": null,
   "metadata": {},
   "outputs": [],
   "source": [
    "Column1 = 'PassengerId'\n",
    "Column2 = 'Pclass'\n",
    "matplotlib_bar(df[Column1],df[Column2],Column1,Column2)"
   ]
  },
  {
   "cell_type": "code",
   "execution_count": null,
   "metadata": {},
   "outputs": [],
   "source": [
    "def matplotlib_barh(column1,column2,column1_name,column2_name):\n",
    "    plt.barh(y = column2, width = column1)\n",
    "    plt.xlabel(column1_name)\n",
    "    plt.ylabel(column2_name)\n",
    "    plt.title(\"BarH Plot of \" + column1_name + \" V/S \" + column2_name)\n",
    "    plt.show()"
   ]
  },
  {
   "cell_type": "code",
   "execution_count": null,
   "metadata": {},
   "outputs": [],
   "source": [
    "Column1 = 'PassengerId'\n",
    "Column2 = 'Pclass'\n",
    "matplotlib_barh(df[Column1],df[Column2],Column1,Column2)"
   ]
  },
  {
   "cell_type": "code",
   "execution_count": null,
   "metadata": {},
   "outputs": [],
   "source": [
    "def matplotlib_hist(column1,column1_name):\n",
    "    plt.hist(column1)\n",
    "    plt.xlabel(column1_name)\n",
    "    plt.show()"
   ]
  },
  {
   "cell_type": "code",
   "execution_count": null,
   "metadata": {},
   "outputs": [],
   "source": [
    "def matplotlib_3d(column1, column2, column3, column1_name, column2_name, column3_name):\n",
    "    fig = plt.figure()\n",
    "    ax = fig.add_subplot(projection = '3d')\n",
    "    ax.scatter(column1, column2, column3)\n",
    "    ax.set_xlabel(column1_name)\n",
    "    ax.set_ylabel(column2_name)\n",
    "    ax.set_zlabel(column3_name)"
   ]
  },
  {
   "cell_type": "code",
   "execution_count": null,
   "metadata": {},
   "outputs": [],
   "source": [
    "Column1 = 'PassengerId'\n",
    "Column2 = 'Pclass'\n",
    "Column3 = 'Survived'\n",
    "matplotlib_3d(df[Column1], df[Column2], df[Column3],Column1,Column2,Column3)"
   ]
  },
  {
   "cell_type": "code",
   "execution_count": null,
   "metadata": {},
   "outputs": [],
   "source": [
    "def plotly_Scatter(column1,column2,column1_name, column2_name, mode='markers',marker_size = 5):\n",
    "    fig = go.Figure()\n",
    "    fig.add_trace(go.Scatter(x = column1, y = column2,mode=mode, marker_size = marker_size))\n",
    "    fig.update_layout(\n",
    "        xaxis_title = column1_name, yaxis_title = column2_name\n",
    "    )\n",
    "    fig.show()"
   ]
  },
  {
   "cell_type": "code",
   "execution_count": null,
   "metadata": {},
   "outputs": [],
   "source": [
    "def plotly_Bar(column1,column2,column1_name,column2_name):\n",
    "    fig = go.Figure()\n",
    "    fig.add_trace(go.Bar(x = column1, y = column2))\n",
    "    fig.update_layout(\n",
    "        xaxis_title = column1_name, yaxis_title = column2_name\n",
    "    )\n",
    "    fig.show()"
   ]
  },
  {
   "cell_type": "code",
   "execution_count": null,
   "metadata": {},
   "outputs": [],
   "source": [
    "def plotly_Histogram(column1, column1_name):\n",
    "    fig = go.Figure()\n",
    "    fig.add_trace(go.Histogram(x = column1))\n",
    "    fig.update_layout(\n",
    "        xaxis_title = column1_name,\n",
    "    )\n",
    "    fig.show()"
   ]
  },
  {
   "cell_type": "code",
   "execution_count": null,
   "metadata": {},
   "outputs": [],
   "source": [
    "def plotly_Scatter3D(column1, column2, column3, column1_name, column2_name, column3_name, mode='markers'):\n",
    "    fig = go.Figure()\n",
    "    fig.add_trace(go.Scatter3d(x = column1, y = column2, z = column3, mode = mode))\n",
    "    fig.update_layout(\n",
    "        scene=dict(\n",
    "            xaxis_title = column1_name, yaxis_title = column2_name, zaxis_title = column3_name\n",
    "        )\n",
    "    )\n",
    "    fig.show()"
   ]
  },
  {
   "cell_type": "code",
   "execution_count": null,
   "metadata": {},
   "outputs": [],
   "source": [
    "Column1 = 'Age'\n",
    "Column2 = 'Pclass'\n",
    "x = df[Column1]\n",
    "y = df[Column2]\n",
    "plotly_Scatter(x,y,Column1,Column2,'markers')"
   ]
  },
  {
   "cell_type": "code",
   "execution_count": null,
   "metadata": {},
   "outputs": [],
   "source": [
    "plotly_Scatter(x,y,Column1,Column2,'lines')"
   ]
  },
  {
   "cell_type": "code",
   "execution_count": null,
   "metadata": {},
   "outputs": [],
   "source": [
    "Column1 = 'Survived'\n",
    "Column2 = 'Pclass'\n",
    "x = df[Column1]\n",
    "y = df[Column2]\n",
    "plotly_Bar(x,y,Column1,Column2)"
   ]
  },
  {
   "cell_type": "code",
   "execution_count": null,
   "metadata": {},
   "outputs": [],
   "source": [
    "Column1 = 'Pclass'\n",
    "plotly_Histogram(df[Column1],Column1)"
   ]
  },
  {
   "cell_type": "code",
   "execution_count": null,
   "metadata": {},
   "outputs": [],
   "source": [
    "Column1 = 'Survived'\n",
    "Column2 = 'Pclass'\n",
    "Column3 = 'SibSp'\n",
    "x = df[Column1]\n",
    "y = df[Column2]\n",
    "z = df[Column3]\n",
    "plotly_Scatter3D(x,y,z,Column1,Column2,Column3,'lines')"
   ]
  }
 ],
 "metadata": {
  "kernelspec": {
   "display_name": "venv",
   "language": "python",
   "name": "python3"
  },
  "language_info": {
   "codemirror_mode": {
    "name": "ipython",
    "version": 3
   },
   "file_extension": ".py",
   "mimetype": "text/x-python",
   "name": "python",
   "nbconvert_exporter": "python",
   "pygments_lexer": "ipython3",
   "version": "3.12.0"
  }
 },
 "nbformat": 4,
 "nbformat_minor": 2
}
